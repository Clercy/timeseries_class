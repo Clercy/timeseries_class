{
 "cells": [
  {
   "cell_type": "markdown",
   "metadata": {},
   "source": [
    "# Warm up session\n",
    "List of 8 exercises"
   ]
  },
  {
   "cell_type": "markdown",
   "metadata": {},
   "source": [
    "### 1. create a list (list_a) with numbers from 1 to 10"
   ]
  },
  {
   "cell_type": "code",
   "execution_count": 10,
   "metadata": {},
   "outputs": [
    {
     "name": "stdout",
     "output_type": "stream",
     "text": [
      "[1, 2, 3, 4, 5, 6, 7, 8, 9, 10]\n"
     ]
    }
   ],
   "source": [
    "#list_a = [1,2,3,4,5,6,7,8,9,10]\n",
    "list_a = list(range(1,11))\n",
    "print(list_a)"
   ]
  },
  {
   "cell_type": "markdown",
   "metadata": {},
   "source": [
    "### 2. import the numpy library and calculate the mean of the first 5 items from the list_a"
   ]
  },
  {
   "cell_type": "code",
   "execution_count": 12,
   "metadata": {},
   "outputs": [
    {
     "data": {
      "text/plain": [
       "3.0"
      ]
     },
     "execution_count": 12,
     "metadata": {},
     "output_type": "execute_result"
    }
   ],
   "source": [
    "import numpy as np\n",
    "np.mean(list_a[0:5])"
   ]
  },
  {
   "cell_type": "markdown",
   "metadata": {},
   "source": [
    "### 3. create a list (list_b) with 10 random number in a range from 1 to 10\n"
   ]
  },
  {
   "cell_type": "code",
   "execution_count": 13,
   "metadata": {},
   "outputs": [
    {
     "name": "stdout",
     "output_type": "stream",
     "text": [
      "[10, 2, 1, 3, 7, 8, 1, 10, 9, 3]\n"
     ]
    }
   ],
   "source": [
    "import random\n",
    "list_b = []\n",
    "for i in range(10):\n",
    "    list_b.append(random.randint(1, 10))\n",
    "print(list_b)"
   ]
  },
  {
   "cell_type": "markdown",
   "metadata": {},
   "source": [
    "### 4. identify how many elements are in the intersection between list_a and list_b"
   ]
  },
  {
   "cell_type": "code",
   "execution_count": 15,
   "metadata": {},
   "outputs": [
    {
     "data": {
      "text/plain": [
       "7"
      ]
     },
     "execution_count": 15,
     "metadata": {},
     "output_type": "execute_result"
    }
   ],
   "source": [
    "len(set(list_a)&set(list_b))"
   ]
  },
  {
   "cell_type": "markdown",
   "metadata": {},
   "source": [
    "### 5. create a function that defines if a number is 'even' or 'odd'\n"
   ]
  },
  {
   "cell_type": "code",
   "execution_count": 16,
   "metadata": {},
   "outputs": [
    {
     "name": "stdout",
     "output_type": "stream",
     "text": [
      "odd\n",
      "even\n"
     ]
    }
   ],
   "source": [
    "def even_odd(n):\n",
    "    if n%2 == 0:\n",
    "        return 'even'\n",
    "    else:\n",
    "        return 'odd'\n",
    "    \n",
    "print(even_odd(1))\n",
    "print(even_odd(2))"
   ]
  },
  {
   "cell_type": "markdown",
   "metadata": {},
   "source": [
    "### 6. create a list (list_c) that merges list_a and list_b\n"
   ]
  },
  {
   "cell_type": "code",
   "execution_count": 17,
   "metadata": {},
   "outputs": [
    {
     "name": "stdout",
     "output_type": "stream",
     "text": [
      "[1, 2, 3, 4, 5, 6, 7, 8, 9, 10, 10, 2, 1, 3, 7, 8, 1, 10, 9, 3]\n"
     ]
    }
   ],
   "source": [
    "list_c = list_a + list_b\n",
    "print(list_c)"
   ]
  },
  {
   "cell_type": "code",
   "execution_count": 18,
   "metadata": {},
   "outputs": [
    {
     "data": {
      "text/plain": [
       "{'even': [2, 4, 6, 8, 10, 10, 2, 8, 10],\n",
       " 'odd': [1, 3, 5, 7, 9, 1, 3, 7, 1, 9, 3]}"
      ]
     },
     "execution_count": 18,
     "metadata": {},
     "output_type": "execute_result"
    }
   ],
   "source": [
    "### 7. organize the list_c into a dictionary according to whether the number is 'even' or 'odd'\n",
    "dict_number = {}\n",
    "dict_number['even'] = []\n",
    "dict_number['odd'] = []\n",
    "for v in list_c:\n",
    "    number_type = even_odd(v)\n",
    "    dict_number[number_type].append(v)\n",
    "    \n",
    "dict_number"
   ]
  },
  {
   "cell_type": "markdown",
   "metadata": {},
   "source": [
    "### 8. how many numbers are even and how many are odd"
   ]
  },
  {
   "cell_type": "code",
   "execution_count": 23,
   "metadata": {},
   "outputs": [
    {
     "name": "stdout",
     "output_type": "stream",
     "text": [
      "#odds 11\n",
      "#evens 9\n"
     ]
    }
   ],
   "source": [
    "print('#odds', len(dict_number['odd']))\n",
    "print('#evens', len(dict_number['even']))"
   ]
  },
  {
   "cell_type": "code",
   "execution_count": null,
   "metadata": {},
   "outputs": [],
   "source": []
  }
 ],
 "metadata": {
  "kernelspec": {
   "display_name": "Python 3",
   "language": "python",
   "name": "python3"
  },
  "language_info": {
   "codemirror_mode": {
    "name": "ipython",
    "version": 3
   },
   "file_extension": ".py",
   "mimetype": "text/x-python",
   "name": "python",
   "nbconvert_exporter": "python",
   "pygments_lexer": "ipython3",
   "version": "3.6.5"
  }
 },
 "nbformat": 4,
 "nbformat_minor": 2
}

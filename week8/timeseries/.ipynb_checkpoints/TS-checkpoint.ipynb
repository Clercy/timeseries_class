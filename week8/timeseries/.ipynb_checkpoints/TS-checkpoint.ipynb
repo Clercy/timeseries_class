{
 "cells": [
  {
   "cell_type": "code",
   "execution_count": 1,
   "metadata": {},
   "outputs": [],
   "source": [
    "# import the library\n",
    "%matplotlib inline\n",
    "\n",
    "import pandas as pd\n",
    "import numpy as np\n",
    "import scipy\n",
    "import matplotlib.pyplot as plt\n",
    "\n",
    "# the more advanced python visualization library\n",
    "import seaborn as sns\n",
    "\n",
    "# apply style to all the charts\n",
    "sns.set_style('whitegrid')\n",
    "\n",
    "from statsmodels.graphics.tsaplots import plot_acf\n",
    "from statsmodels.graphics.tsaplots import plot_pacf\n",
    "\n",
    "# convert scientific notation to decimals\n",
    "pd.set_option('display.float_format', lambda x: '%.2f' % x)"
   ]
  },
  {
   "cell_type": "code",
   "execution_count": 2,
   "metadata": {},
   "outputs": [
    {
     "data": {
      "text/html": [
       "<div>\n",
       "<style scoped>\n",
       "    .dataframe tbody tr th:only-of-type {\n",
       "        vertical-align: middle;\n",
       "    }\n",
       "\n",
       "    .dataframe tbody tr th {\n",
       "        vertical-align: top;\n",
       "    }\n",
       "\n",
       "    .dataframe thead th {\n",
       "        text-align: right;\n",
       "    }\n",
       "</style>\n",
       "<table border=\"1\" class=\"dataframe\">\n",
       "  <thead>\n",
       "    <tr style=\"text-align: right;\">\n",
       "      <th></th>\n",
       "      <th>Start date</th>\n",
       "      <th>Start station number</th>\n",
       "    </tr>\n",
       "  </thead>\n",
       "  <tbody>\n",
       "    <tr>\n",
       "      <th>0</th>\n",
       "      <td>2011-01-01 00:01:29</td>\n",
       "      <td>31620</td>\n",
       "    </tr>\n",
       "    <tr>\n",
       "      <th>1</th>\n",
       "      <td>2011-01-01 00:02:46</td>\n",
       "      <td>31105</td>\n",
       "    </tr>\n",
       "    <tr>\n",
       "      <th>2</th>\n",
       "      <td>2011-01-01 00:06:13</td>\n",
       "      <td>31400</td>\n",
       "    </tr>\n",
       "    <tr>\n",
       "      <th>3</th>\n",
       "      <td>2011-01-01 00:09:21</td>\n",
       "      <td>31111</td>\n",
       "    </tr>\n",
       "    <tr>\n",
       "      <th>4</th>\n",
       "      <td>2011-01-01 00:28:26</td>\n",
       "      <td>31104</td>\n",
       "    </tr>\n",
       "    <tr>\n",
       "      <th>5</th>\n",
       "      <td>2011-01-01 00:32:33</td>\n",
       "      <td>31605</td>\n",
       "    </tr>\n",
       "    <tr>\n",
       "      <th>6</th>\n",
       "      <td>2011-01-01 00:35:48</td>\n",
       "      <td>31203</td>\n",
       "    </tr>\n",
       "    <tr>\n",
       "      <th>7</th>\n",
       "      <td>2011-01-01 00:36:42</td>\n",
       "      <td>31203</td>\n",
       "    </tr>\n",
       "    <tr>\n",
       "      <th>8</th>\n",
       "      <td>2011-01-01 00:45:55</td>\n",
       "      <td>31201</td>\n",
       "    </tr>\n",
       "    <tr>\n",
       "      <th>9</th>\n",
       "      <td>2011-01-01 00:46:06</td>\n",
       "      <td>31201</td>\n",
       "    </tr>\n",
       "  </tbody>\n",
       "</table>\n",
       "</div>"
      ],
      "text/plain": [
       "            Start date  Start station number\n",
       "0  2011-01-01 00:01:29                 31620\n",
       "1  2011-01-01 00:02:46                 31105\n",
       "2  2011-01-01 00:06:13                 31400\n",
       "3  2011-01-01 00:09:21                 31111\n",
       "4  2011-01-01 00:28:26                 31104\n",
       "5  2011-01-01 00:32:33                 31605\n",
       "6  2011-01-01 00:35:48                 31203\n",
       "7  2011-01-01 00:36:42                 31203\n",
       "8  2011-01-01 00:45:55                 31201\n",
       "9  2011-01-01 00:46:06                 31201"
      ]
     },
     "execution_count": 2,
     "metadata": {},
     "output_type": "execute_result"
    }
   ],
   "source": [
    "# https://www.capitalbikeshare.com/system-data\n",
    "df = pd.read_csv('data/2011-capitalbikeshare-tripdata.csv')\n",
    "df.head(10)"
   ]
  },
  {
   "cell_type": "code",
   "execution_count": 3,
   "metadata": {},
   "outputs": [
    {
     "data": {
      "text/html": [
       "<div>\n",
       "<style scoped>\n",
       "    .dataframe tbody tr th:only-of-type {\n",
       "        vertical-align: middle;\n",
       "    }\n",
       "\n",
       "    .dataframe tbody tr th {\n",
       "        vertical-align: top;\n",
       "    }\n",
       "\n",
       "    .dataframe thead th {\n",
       "        text-align: right;\n",
       "    }\n",
       "</style>\n",
       "<table border=\"1\" class=\"dataframe\">\n",
       "  <thead>\n",
       "    <tr style=\"text-align: right;\">\n",
       "      <th></th>\n",
       "      <th>Start station number</th>\n",
       "    </tr>\n",
       "    <tr>\n",
       "      <th>Start date</th>\n",
       "      <th></th>\n",
       "    </tr>\n",
       "  </thead>\n",
       "  <tbody>\n",
       "    <tr>\n",
       "      <th>2011-01-01 00:01:29</th>\n",
       "      <td>31620</td>\n",
       "    </tr>\n",
       "    <tr>\n",
       "      <th>2011-01-01 00:02:46</th>\n",
       "      <td>31105</td>\n",
       "    </tr>\n",
       "    <tr>\n",
       "      <th>2011-01-01 00:06:13</th>\n",
       "      <td>31400</td>\n",
       "    </tr>\n",
       "    <tr>\n",
       "      <th>2011-01-01 00:09:21</th>\n",
       "      <td>31111</td>\n",
       "    </tr>\n",
       "    <tr>\n",
       "      <th>2011-01-01 00:28:26</th>\n",
       "      <td>31104</td>\n",
       "    </tr>\n",
       "    <tr>\n",
       "      <th>2011-01-01 00:32:33</th>\n",
       "      <td>31605</td>\n",
       "    </tr>\n",
       "    <tr>\n",
       "      <th>2011-01-01 00:35:48</th>\n",
       "      <td>31203</td>\n",
       "    </tr>\n",
       "    <tr>\n",
       "      <th>2011-01-01 00:36:42</th>\n",
       "      <td>31203</td>\n",
       "    </tr>\n",
       "    <tr>\n",
       "      <th>2011-01-01 00:45:55</th>\n",
       "      <td>31201</td>\n",
       "    </tr>\n",
       "    <tr>\n",
       "      <th>2011-01-01 00:46:06</th>\n",
       "      <td>31201</td>\n",
       "    </tr>\n",
       "  </tbody>\n",
       "</table>\n",
       "</div>"
      ],
      "text/plain": [
       "                     Start station number\n",
       "Start date                               \n",
       "2011-01-01 00:01:29                 31620\n",
       "2011-01-01 00:02:46                 31105\n",
       "2011-01-01 00:06:13                 31400\n",
       "2011-01-01 00:09:21                 31111\n",
       "2011-01-01 00:28:26                 31104\n",
       "2011-01-01 00:32:33                 31605\n",
       "2011-01-01 00:35:48                 31203\n",
       "2011-01-01 00:36:42                 31203\n",
       "2011-01-01 00:45:55                 31201\n",
       "2011-01-01 00:46:06                 31201"
      ]
     },
     "execution_count": 3,
     "metadata": {},
     "output_type": "execute_result"
    }
   ],
   "source": [
    "# set the datetime column as the index\n",
    "df['Start date'] = pd.to_datetime(df['Start date'])\n",
    "df.set_index('Start date', inplace=True)\n",
    "df.head(10)"
   ]
  },
  {
   "cell_type": "markdown",
   "metadata": {},
   "source": [
    "# Resampling"
   ]
  },
  {
   "cell_type": "code",
   "execution_count": 10,
   "metadata": {},
   "outputs": [],
   "source": [
    "# Resampling daily\n",
    "df_daily = df.resample('D').count()\n",
    "df_daily.columns = ['trips']\n",
    "# TODO: Resampling weekly\n",
    "df_weekly = df.resample('W').count()\n",
    "df_weekly.columns = ['trips']\n",
    "# TODO: Resampling monthly\n",
    "df_monthly = df.resample('M').count()\n",
    "df_monthly.columns = ['trips']"
   ]
  },
  {
   "cell_type": "code",
   "execution_count": 5,
   "metadata": {},
   "outputs": [
    {
     "data": {
      "image/png": "[encoded data removed]",
      "text/plain": [
       "<Figure size 432x288 with 1 Axes>"
      ]
     },
     "metadata": {},
     "output_type": "display_data"
    }
   ],
   "source": [
    "# plot daily chart\n",
    "plt.plot(df_daily)\n",
    "plt.title('Daily')\n",
    "plt.show()"
   ]
  },
  {
   "cell_type": "code",
   "execution_count": 11,
   "metadata": {},
   "outputs": [
    {
     "data": {
      "image/png": "[encoded data removed]",
      "text/plain": [
       "<Figure size 432x288 with 1 Axes>"
      ]
     },
     "metadata": {},
     "output_type": "display_data"
    }
   ],
   "source": [
    "# TODO: plot weekly chart\n",
    "plt.plot(df_weekly)\n",
    "plt.title('Weekly')\n",
    "plt.show()"
   ]
  },
  {
   "cell_type": "code",
   "execution_count": 12,
   "metadata": {},
   "outputs": [
    {
     "data": {
      "image/png": "[encoded data removed]",
      "text/plain": [
       "<Figure size 432x288 with 1 Axes>"
      ]
     },
     "metadata": {},
     "output_type": "display_data"
    }
   ],
   "source": [
    "# TODO: plot monthly chart\n",
    "plt.plot(df_monthly)\n",
    "plt.title('Monthly')\n",
    "plt.show()"
   ]
  },
  {
   "cell_type": "markdown",
   "metadata": {},
   "source": [
    "# Autocorrelation and Partial Autocorrelation"
   ]
  },
  {
   "cell_type": "code",
   "execution_count": 16,
   "metadata": {},
   "outputs": [
    {
     "data": {
      "image/png": "[encoded data removed]",
      "text/plain": [
       "<Figure size 432x288 with 1 Axes>"
      ]
     },
     "metadata": {},
     "output_type": "display_data"
    },
    {
     "data": {
      "image/png": "[encoded data removed]",
      "text/plain": [
       "<Figure size 432x288 with 1 Axes>"
      ]
     },
     "metadata": {},
     "output_type": "display_data"
    }
   ],
   "source": [
    "# Daily\n",
    "lags = 52\n",
    "# acf\n",
    "plot_acf(df_daily, lags=lags)\n",
    "plt.show()\n",
    "# pacf\n",
    "plot_pacf(df_daily, lags=lags)\n",
    "plt.show()"
   ]
  },
  {
   "cell_type": "code",
   "execution_count": 13,
   "metadata": {},
   "outputs": [
    {
     "data": {
      "image/png": "[encoded data removed]",
      "text/plain": [
       "<Figure size 432x288 with 1 Axes>"
      ]
     },
     "metadata": {},
     "output_type": "display_data"
    },
    {
     "name": "stderr",
     "output_type": "stream",
     "text": [
      "C:\\ProgramData\\Anaconda3\\lib\\site-packages\\statsmodels\\regression\\linear_model.py:1283: RuntimeWarning: invalid value encountered in sqrt\n",
      "  return rho, np.sqrt(sigmasq)\n"
     ]
    },
    {
     "data": {
      "image/png": "[encoded data removed]",
      "text/plain": [
       "<Figure size 432x288 with 1 Axes>"
      ]
     },
     "metadata": {},
     "output_type": "display_data"
    }
   ],
   "source": [
    "# Weekly\n",
    "lags = 52\n",
    "# acf\n",
    "plot_acf(df_weekly, lags=lags)\n",
    "plt.show()\n",
    "# pacf\n",
    "plot_pacf(df_weekly, lags=lags)\n",
    "plt.show()"
   ]
  },
  {
   "cell_type": "markdown",
   "metadata": {},
   "source": [
    "# Differencing 1st order"
   ]
  },
  {
   "cell_type": "code",
   "execution_count": 14,
   "metadata": {},
   "outputs": [
    {
     "data": {
      "text/html": [
       "<div>\n",
       "<style scoped>\n",
       "    .dataframe tbody tr th:only-of-type {\n",
       "        vertical-align: middle;\n",
       "    }\n",
       "\n",
       "    .dataframe tbody tr th {\n",
       "        vertical-align: top;\n",
       "    }\n",
       "\n",
       "    .dataframe thead th {\n",
       "        text-align: right;\n",
       "    }\n",
       "</style>\n",
       "<table border=\"1\" class=\"dataframe\">\n",
       "  <thead>\n",
       "    <tr style=\"text-align: right;\">\n",
       "      <th></th>\n",
       "      <th>trips</th>\n",
       "    </tr>\n",
       "    <tr>\n",
       "      <th>Start date</th>\n",
       "      <th></th>\n",
       "    </tr>\n",
       "  </thead>\n",
       "  <tbody>\n",
       "    <tr>\n",
       "      <th>2011-01-01</th>\n",
       "      <td>nan</td>\n",
       "    </tr>\n",
       "    <tr>\n",
       "      <th>2011-01-02</th>\n",
       "      <td>-178.00</td>\n",
       "    </tr>\n",
       "    <tr>\n",
       "      <th>2011-01-03</th>\n",
       "      <td>520.00</td>\n",
       "    </tr>\n",
       "    <tr>\n",
       "      <th>2011-01-04</th>\n",
       "      <td>235.00</td>\n",
       "    </tr>\n",
       "    <tr>\n",
       "      <th>2011-01-05</th>\n",
       "      <td>35.00</td>\n",
       "    </tr>\n",
       "    <tr>\n",
       "      <th>2011-01-06</th>\n",
       "      <td>2.00</td>\n",
       "    </tr>\n",
       "    <tr>\n",
       "      <th>2011-01-07</th>\n",
       "      <td>-80.00</td>\n",
       "    </tr>\n",
       "    <tr>\n",
       "      <th>2011-01-08</th>\n",
       "      <td>-554.00</td>\n",
       "    </tr>\n",
       "    <tr>\n",
       "      <th>2011-01-09</th>\n",
       "      <td>-137.00</td>\n",
       "    </tr>\n",
       "    <tr>\n",
       "      <th>2011-01-10</th>\n",
       "      <td>496.00</td>\n",
       "    </tr>\n",
       "    <tr>\n",
       "      <th>2011-01-11</th>\n",
       "      <td>-67.00</td>\n",
       "    </tr>\n",
       "    <tr>\n",
       "      <th>2011-01-12</th>\n",
       "      <td>-90.00</td>\n",
       "    </tr>\n",
       "    <tr>\n",
       "      <th>2011-01-13</th>\n",
       "      <td>242.00</td>\n",
       "    </tr>\n",
       "    <tr>\n",
       "      <th>2011-01-14</th>\n",
       "      <td>1.00</td>\n",
       "    </tr>\n",
       "    <tr>\n",
       "      <th>2011-01-15</th>\n",
       "      <td>-144.00</td>\n",
       "    </tr>\n",
       "    <tr>\n",
       "      <th>2011-01-16</th>\n",
       "      <td>-52.00</td>\n",
       "    </tr>\n",
       "    <tr>\n",
       "      <th>2011-01-17</th>\n",
       "      <td>-195.00</td>\n",
       "    </tr>\n",
       "    <tr>\n",
       "      <th>2011-01-18</th>\n",
       "      <td>-321.00</td>\n",
       "    </tr>\n",
       "    <tr>\n",
       "      <th>2011-01-19</th>\n",
       "      <td>959.00</td>\n",
       "    </tr>\n",
       "    <tr>\n",
       "      <th>2011-01-20</th>\n",
       "      <td>265.00</td>\n",
       "    </tr>\n",
       "    <tr>\n",
       "      <th>2011-01-21</th>\n",
       "      <td>-374.00</td>\n",
       "    </tr>\n",
       "    <tr>\n",
       "      <th>2011-01-22</th>\n",
       "      <td>-553.00</td>\n",
       "    </tr>\n",
       "    <tr>\n",
       "      <th>2011-01-23</th>\n",
       "      <td>8.00</td>\n",
       "    </tr>\n",
       "    <tr>\n",
       "      <th>2011-01-24</th>\n",
       "      <td>428.00</td>\n",
       "    </tr>\n",
       "    <tr>\n",
       "      <th>2011-01-25</th>\n",
       "      <td>566.00</td>\n",
       "    </tr>\n",
       "    <tr>\n",
       "      <th>2011-01-26</th>\n",
       "      <td>-1471.00</td>\n",
       "    </tr>\n",
       "    <tr>\n",
       "      <th>2011-01-27</th>\n",
       "      <td>-76.00</td>\n",
       "    </tr>\n",
       "    <tr>\n",
       "      <th>2011-01-28</th>\n",
       "      <td>727.00</td>\n",
       "    </tr>\n",
       "    <tr>\n",
       "      <th>2011-01-29</th>\n",
       "      <td>-81.00</td>\n",
       "    </tr>\n",
       "    <tr>\n",
       "      <th>2011-01-30</th>\n",
       "      <td>14.00</td>\n",
       "    </tr>\n",
       "    <tr>\n",
       "      <th>...</th>\n",
       "      <td>...</td>\n",
       "    </tr>\n",
       "    <tr>\n",
       "      <th>2011-12-02</th>\n",
       "      <td>219.00</td>\n",
       "    </tr>\n",
       "    <tr>\n",
       "      <th>2011-12-03</th>\n",
       "      <td>-339.00</td>\n",
       "    </tr>\n",
       "    <tr>\n",
       "      <th>2011-12-04</th>\n",
       "      <td>-121.00</td>\n",
       "    </tr>\n",
       "    <tr>\n",
       "      <th>2011-12-05</th>\n",
       "      <td>303.00</td>\n",
       "    </tr>\n",
       "    <tr>\n",
       "      <th>2011-12-06</th>\n",
       "      <td>-1181.00</td>\n",
       "    </tr>\n",
       "    <tr>\n",
       "      <th>2011-12-07</th>\n",
       "      <td>-1865.00</td>\n",
       "    </tr>\n",
       "    <tr>\n",
       "      <th>2011-12-08</th>\n",
       "      <td>2597.00</td>\n",
       "    </tr>\n",
       "    <tr>\n",
       "      <th>2011-12-09</th>\n",
       "      <td>288.00</td>\n",
       "    </tr>\n",
       "    <tr>\n",
       "      <th>2011-12-10</th>\n",
       "      <td>-423.00</td>\n",
       "    </tr>\n",
       "    <tr>\n",
       "      <th>2011-12-11</th>\n",
       "      <td>-447.00</td>\n",
       "    </tr>\n",
       "    <tr>\n",
       "      <th>2011-12-12</th>\n",
       "      <td>551.00</td>\n",
       "    </tr>\n",
       "    <tr>\n",
       "      <th>2011-12-13</th>\n",
       "      <td>217.00</td>\n",
       "    </tr>\n",
       "    <tr>\n",
       "      <th>2011-12-14</th>\n",
       "      <td>212.00</td>\n",
       "    </tr>\n",
       "    <tr>\n",
       "      <th>2011-12-15</th>\n",
       "      <td>-23.00</td>\n",
       "    </tr>\n",
       "    <tr>\n",
       "      <th>2011-12-16</th>\n",
       "      <td>-133.00</td>\n",
       "    </tr>\n",
       "    <tr>\n",
       "      <th>2011-12-17</th>\n",
       "      <td>-827.00</td>\n",
       "    </tr>\n",
       "    <tr>\n",
       "      <th>2011-12-18</th>\n",
       "      <td>-308.00</td>\n",
       "    </tr>\n",
       "    <tr>\n",
       "      <th>2011-12-19</th>\n",
       "      <td>964.00</td>\n",
       "    </tr>\n",
       "    <tr>\n",
       "      <th>2011-12-20</th>\n",
       "      <td>348.00</td>\n",
       "    </tr>\n",
       "    <tr>\n",
       "      <th>2011-12-21</th>\n",
       "      <td>-1074.00</td>\n",
       "    </tr>\n",
       "    <tr>\n",
       "      <th>2011-12-22</th>\n",
       "      <td>388.00</td>\n",
       "    </tr>\n",
       "    <tr>\n",
       "      <th>2011-12-23</th>\n",
       "      <td>-846.00</td>\n",
       "    </tr>\n",
       "    <tr>\n",
       "      <th>2011-12-24</th>\n",
       "      <td>-1188.00</td>\n",
       "    </tr>\n",
       "    <tr>\n",
       "      <th>2011-12-25</th>\n",
       "      <td>-252.00</td>\n",
       "    </tr>\n",
       "    <tr>\n",
       "      <th>2011-12-26</th>\n",
       "      <td>551.00</td>\n",
       "    </tr>\n",
       "    <tr>\n",
       "      <th>2011-12-27</th>\n",
       "      <td>-141.00</td>\n",
       "    </tr>\n",
       "    <tr>\n",
       "      <th>2011-12-28</th>\n",
       "      <td>1123.00</td>\n",
       "    </tr>\n",
       "    <tr>\n",
       "      <th>2011-12-29</th>\n",
       "      <td>128.00</td>\n",
       "    </tr>\n",
       "    <tr>\n",
       "      <th>2011-12-30</th>\n",
       "      <td>564.00</td>\n",
       "    </tr>\n",
       "    <tr>\n",
       "      <th>2011-12-31</th>\n",
       "      <td>-510.00</td>\n",
       "    </tr>\n",
       "  </tbody>\n",
       "</table>\n",
       "<p>365 rows × 1 columns</p>\n",
       "</div>"
      ],
      "text/plain": [
       "              trips\n",
       "Start date         \n",
       "2011-01-01      nan\n",
       "2011-01-02  -178.00\n",
       "2011-01-03   520.00\n",
       "2011-01-04   235.00\n",
       "2011-01-05    35.00\n",
       "2011-01-06     2.00\n",
       "2011-01-07   -80.00\n",
       "2011-01-08  -554.00\n",
       "2011-01-09  -137.00\n",
       "2011-01-10   496.00\n",
       "2011-01-11   -67.00\n",
       "2011-01-12   -90.00\n",
       "2011-01-13   242.00\n",
       "2011-01-14     1.00\n",
       "2011-01-15  -144.00\n",
       "2011-01-16   -52.00\n",
       "2011-01-17  -195.00\n",
       "2011-01-18  -321.00\n",
       "2011-01-19   959.00\n",
       "2011-01-20   265.00\n",
       "2011-01-21  -374.00\n",
       "2011-01-22  -553.00\n",
       "2011-01-23     8.00\n",
       "2011-01-24   428.00\n",
       "2011-01-25   566.00\n",
       "2011-01-26 -1471.00\n",
       "2011-01-27   -76.00\n",
       "2011-01-28   727.00\n",
       "2011-01-29   -81.00\n",
       "2011-01-30    14.00\n",
       "...             ...\n",
       "2011-12-02   219.00\n",
       "2011-12-03  -339.00\n",
       "2011-12-04  -121.00\n",
       "2011-12-05   303.00\n",
       "2011-12-06 -1181.00\n",
       "2011-12-07 -1865.00\n",
       "2011-12-08  2597.00\n",
       "2011-12-09   288.00\n",
       "2011-12-10  -423.00\n",
       "2011-12-11  -447.00\n",
       "2011-12-12   551.00\n",
       "2011-12-13   217.00\n",
       "2011-12-14   212.00\n",
       "2011-12-15   -23.00\n",
       "2011-12-16  -133.00\n",
       "2011-12-17  -827.00\n",
       "2011-12-18  -308.00\n",
       "2011-12-19   964.00\n",
       "2011-12-20   348.00\n",
       "2011-12-21 -1074.00\n",
       "2011-12-22   388.00\n",
       "2011-12-23  -846.00\n",
       "2011-12-24 -1188.00\n",
       "2011-12-25  -252.00\n",
       "2011-12-26   551.00\n",
       "2011-12-27  -141.00\n",
       "2011-12-28  1123.00\n",
       "2011-12-29   128.00\n",
       "2011-12-30   564.00\n",
       "2011-12-31  -510.00\n",
       "\n",
       "[365 rows x 1 columns]"
      ]
     },
     "execution_count": 14,
     "metadata": {},
     "output_type": "execute_result"
    }
   ],
   "source": [
    "df_daily.diff()"
   ]
  },
  {
   "cell_type": "code",
   "execution_count": 15,
   "metadata": {},
   "outputs": [
    {
     "data": {
      "image/png": "[encoded data removed]",
      "text/plain": [
       "<Figure size 432x288 with 1 Axes>"
      ]
     },
     "metadata": {},
     "output_type": "display_data"
    }
   ],
   "source": [
    "# plot the daily diff\n",
    "plt.plot(df_daily.diff())\n",
    "plt.title('Daily Diff')\n",
    "plt.show()"
   ]
  },
  {
   "cell_type": "code",
   "execution_count": 26,
   "metadata": {},
   "outputs": [
    {
     "data": {
      "text/plain": [
       "DatetimeIndex(['2011-08-27'], dtype='datetime64[ns]', name='Start date', freq=None)"
      ]
     },
     "execution_count": 26,
     "metadata": {},
     "output_type": "execute_result"
    }
   ],
   "source": [
    "# TODO: What is the day with the highest absolute difference?\n",
    "df_daily.diff().abs().sort_values(by='trips',ascending=False)['trips'].head(1)\n"
   ]
  },
  {
   "cell_type": "code",
   "execution_count": null,
   "metadata": {},
   "outputs": [],
   "source": [
    "# plot the weekly diff\n",
    "plt.plot(df_weekly.diff())\n",
    "plt.title('Weekly Diff')\n",
    "plt.show()"
   ]
  },
  {
   "cell_type": "markdown",
   "metadata": {},
   "source": [
    "# Time Series Decomposition"
   ]
  },
  {
   "cell_type": "code",
   "execution_count": null,
   "metadata": {},
   "outputs": [],
   "source": [
    "from statsmodels.tsa.seasonal import seasonal_decompose\n",
    "from pylab import rcParams\n",
    "print(rcParams['figure.figsize'])\n",
    "rcParams['figure.figsize'] = 16, 10\n",
    "series = df_daily['trips'].dropna().values\n",
    "result = seasonal_decompose(series, model='additive', freq=7)\n",
    "result.plot()\n",
    "plt.show()\n",
    "rcParams['figure.figsize'] = 6, 4"
   ]
  },
  {
   "cell_type": "code",
   "execution_count": null,
   "metadata": {},
   "outputs": [],
   "source": [
    "df_daily['dow'] = df_daily.index.dayofweek\n",
    "df_daily['trend'] = result.trend\n",
    "df_daily['seasonal'] = result.seasonal\n",
    "df_daily['resid'] = result.resid\n",
    "df_daily"
   ]
  },
  {
   "cell_type": "markdown",
   "metadata": {},
   "source": [
    "# Smoothing"
   ]
  },
  {
   "cell_type": "code",
   "execution_count": null,
   "metadata": {},
   "outputs": [],
   "source": [
    "# rolling - moving average\n",
    "plt.figure(figsize=(10,6))\n",
    "plt.title('Smoothing Moving Average')\n",
    "plt.plot(df_daily['trips'], alpha=0.3)\n",
    "plt.plot(df_daily['trips'].rolling(window=7).mean())\n",
    "plt.show()"
   ]
  },
  {
   "cell_type": "code",
   "execution_count": null,
   "metadata": {},
   "outputs": [],
   "source": [
    "# exponential weighted functions\n",
    "plt.figure(figsize=(10,6))\n",
    "plt.title('Smoothing Exponential Weighted Function')\n",
    "plt.plot(df_daily['trips'], alpha=0.3)\n",
    "plt.plot(df_daily['trips'].ewm(alpha=0.3).mean())\n",
    "plt.show()"
   ]
  },
  {
   "cell_type": "markdown",
   "metadata": {},
   "source": [
    "# Simple anomaly detection"
   ]
  },
  {
   "cell_type": "code",
   "execution_count": null,
   "metadata": {},
   "outputs": [],
   "source": [
    "resid_mean = df_daily['resid'].dropna().mean()\n",
    "resid_std = df_daily['resid'].dropna().std()\n",
    "print(resid_mean)\n",
    "print(resid_std)\n",
    "\n",
    "n_std = 3\n",
    "df_anomaly = df_daily[(df_daily['resid'] < resid_mean - n_std * resid_std)|(df_daily['resid'] > resid_mean + n_std * resid_std)]\n",
    "\n",
    "plt.figure(figsize=(10,6))\n",
    "plt.plot(df_daily['trips'])\n",
    "for k, v in df_anomaly.iterrows():\n",
    "    plt.plot(k, v['trips'], 'or')\n",
    "plt.show()"
   ]
  },
  {
   "cell_type": "markdown",
   "metadata": {},
   "source": [
    "# Time series prediction"
   ]
  },
  {
   "cell_type": "markdown",
   "metadata": {},
   "source": [
    "## Stats approach"
   ]
  },
  {
   "cell_type": "code",
   "execution_count": null,
   "metadata": {},
   "outputs": [],
   "source": [
    "# Auto Regressive Model\n",
    "from statsmodels.tsa.ar_model import AR\n",
    "model = AR(df_daily['trips'])\n",
    "# fit model\n",
    "model_fit = model.fit()\n",
    "print(df_daily['trips'].tail(7))\n",
    "# calculate prediction\n",
    "yhat = model_fit.predict(len(df_daily['trips']), len(df_daily['trips'])+14)\n",
    "print(yhat)\n",
    "# plot results\n",
    "plt.figure(figsize=(10,6))\n",
    "plt.title('Auto Regressive Model')\n",
    "plt.plot(df_daily['trips'])\n",
    "plt.plot(yhat)\n",
    "plt.show()"
   ]
  },
  {
   "cell_type": "code",
   "execution_count": null,
   "metadata": {},
   "outputs": [],
   "source": [
    "# Moving Average\n",
    "from statsmodels.tsa.arima_model import ARMA\n",
    "# fit model\n",
    "model = ARMA(df_daily['trips'], order=(0, 1))\n",
    "model_fit = model.fit()\n",
    "# calculate prediction\n",
    "yhat = model_fit.predict(len(df_daily['trips']), len(df_daily['trips'])+14)\n",
    "print(yhat)\n",
    "# plot results\n",
    "plt.figure(figsize=(10,6))\n",
    "plt.title('Moving Average Model')\n",
    "plt.plot(df_daily['trips'])\n",
    "plt.plot(yhat)\n",
    "plt.show()"
   ]
  },
  {
   "cell_type": "code",
   "execution_count": null,
   "metadata": {},
   "outputs": [],
   "source": [
    "# Auto Regressive Moving Average\n",
    "from statsmodels.tsa.arima_model import ARMA\n",
    "# fit model\n",
    "model = ARMA(df_daily['trips'], order=(1, 1))\n",
    "model_fit = model.fit()\n",
    "# calculate prediction\n",
    "yhat = model_fit.predict(len(df_daily['trips']), len(df_daily['trips'])+14)\n",
    "print(yhat)\n",
    "# plot results\n",
    "plt.figure(figsize=(10,6))\n",
    "plt.title('Auto Regressive Moving Average Model')\n",
    "plt.plot(df_daily['trips'])\n",
    "plt.plot(yhat)\n",
    "plt.show()"
   ]
  },
  {
   "cell_type": "code",
   "execution_count": null,
   "metadata": {},
   "outputs": [],
   "source": [
    "# Holt Winters \n",
    "from statsmodels.tsa.holtwinters import ExponentialSmoothing\n",
    "# fit model\n",
    "model = ExponentialSmoothing(df_daily['trips'], trend='add', seasonal='add', seasonal_periods=7)\n",
    "model_fit = model.fit(smoothing_level=0.2, smoothing_slope=0.1, smoothing_seasonal=0.5)\n",
    "# calculate prediction\n",
    "yhat = model_fit.predict(len(df_daily['trips']), len(df_daily['trips'])+14)\n",
    "print(yhat)\n",
    "plt.figure(figsize=(10,6))\n",
    "plt.title('Holt Winters Model')\n",
    "plt.plot(df_daily['trips'])\n",
    "plt.plot(yhat)\n",
    "plt.show()"
   ]
  },
  {
   "cell_type": "markdown",
   "metadata": {},
   "source": [
    "## Machine Learning approach"
   ]
  },
  {
   "cell_type": "code",
   "execution_count": null,
   "metadata": {},
   "outputs": [],
   "source": [
    "# Problem definition\n",
    "# Load the data\n",
    "# Feature Engineering\n",
    "# Model Training\n",
    "# Model Evaluation"
   ]
  },
  {
   "cell_type": "markdown",
   "metadata": {},
   "source": [
    "## Problem definition\n",
    "Predict the system usage for tomorrow"
   ]
  },
  {
   "cell_type": "markdown",
   "metadata": {},
   "source": [
    "## Load the data"
   ]
  },
  {
   "cell_type": "code",
   "execution_count": null,
   "metadata": {},
   "outputs": [],
   "source": [
    "# https://archive.ics.uci.edu/ml/datasets/bike+sharing+dataset\n",
    "df_day = pd.read_csv('data/day.csv')\n",
    "df_day.head()"
   ]
  },
  {
   "cell_type": "code",
   "execution_count": null,
   "metadata": {},
   "outputs": [],
   "source": [
    "# Convert the date and set as the index\n",
    "df_day['dteday'] = pd.to_datetime(df_day['dteday'])\n",
    "df_day.set_index('dteday', inplace=True)\n",
    "df_day.head(10)"
   ]
  },
  {
   "cell_type": "markdown",
   "metadata": {},
   "source": [
    "## Feature Engineering"
   ]
  },
  {
   "cell_type": "code",
   "execution_count": null,
   "metadata": {},
   "outputs": [],
   "source": [
    "# Shift example\n",
    "df_cnt = df_day[['cnt']]\n",
    "df_cnt['shift_1'] = df_cnt['cnt'].shift(1)\n",
    "df_cnt.head(10)"
   ]
  },
  {
   "cell_type": "code",
   "execution_count": null,
   "metadata": {},
   "outputs": [],
   "source": [
    "# TODO: apply shift for X days\n",
    "df_cnt = df_day[['cnt']]\n"
   ]
  },
  {
   "cell_type": "code",
   "execution_count": null,
   "metadata": {},
   "outputs": [],
   "source": [
    "# Handle Missing Values\n"
   ]
  },
  {
   "cell_type": "code",
   "execution_count": null,
   "metadata": {},
   "outputs": [],
   "source": [
    "# feature engineering\n",
    "X_columns = [x for x in df_cnt.columns if x != 'cnt']\n",
    "y_column = ['cnt']"
   ]
  },
  {
   "cell_type": "markdown",
   "metadata": {},
   "source": [
    "## Model Training"
   ]
  },
  {
   "cell_type": "code",
   "execution_count": null,
   "metadata": {},
   "outputs": [],
   "source": [
    "# split the data\n",
    "\n",
    "# do NOT shuffle the data\n",
    "#df = df.sample(frac=1)\n",
    "\n",
    "threshold = 0.9\n",
    "absolute_threshold = int(len(df_cnt)*threshold)\n",
    "print(len(df_cnt), absolute_threshold)\n",
    "\n",
    "X_train = df_cnt.iloc[:absolute_threshold][X_columns]\n",
    "y_train = df_cnt.iloc[:absolute_threshold][y_column]\n",
    "\n",
    "X_test = df_cnt.iloc[absolute_threshold:][X_columns]\n",
    "y_test = df_cnt.iloc[absolute_threshold:][y_column]\n",
    "\n",
    "print('X_train', X_train.shape)\n",
    "print('y_train', y_train.shape)\n",
    "print('X_test', X_test.shape)\n",
    "print('y_test', y_test.shape)"
   ]
  },
  {
   "cell_type": "code",
   "execution_count": null,
   "metadata": {},
   "outputs": [],
   "source": [
    "# TODO: Train a linear regression or other model\n"
   ]
  },
  {
   "cell_type": "code",
   "execution_count": null,
   "metadata": {},
   "outputs": [],
   "source": [
    "# TODO: Calculate the MAE\n"
   ]
  },
  {
   "cell_type": "code",
   "execution_count": null,
   "metadata": {},
   "outputs": [],
   "source": [
    "# plot the results\n",
    "plt.scatter(y_test, y_pred, alpha=0.3)\n",
    "plt.show()\n",
    "plt.plot(y_test.index, y_test)\n",
    "plt.plot(y_test.index, y_pred)\n",
    "plt.show()"
   ]
  },
  {
   "cell_type": "code",
   "execution_count": null,
   "metadata": {},
   "outputs": [],
   "source": [
    "# TODO: add the 'atemp' and other features to the list. What is the impact on the MAE?"
   ]
  },
  {
   "cell_type": "code",
   "execution_count": null,
   "metadata": {},
   "outputs": [],
   "source": []
  }
 ],
 "metadata": {
  "kernelspec": {
   "display_name": "Python 3",
   "language": "python",
   "name": "python3"
  },
  "language_info": {
   "codemirror_mode": {
    "name": "ipython",
    "version": 3
   },
   "file_extension": ".py",
   "mimetype": "text/x-python",
   "name": "python",
   "nbconvert_exporter": "python",
   "pygments_lexer": "ipython3",
   "version": "3.6.5"
  }
 },
 "nbformat": 4,
 "nbformat_minor": 2
}
